{
 "cells": [
  {
   "cell_type": "markdown",
   "metadata": {},
   "source": [
    "# PPCES - Task: Clustering Iris Dataset\n",
    "In this task, participants should apply clustering techniques to the iris toy dataset from scikit-learn. The task involves\n",
    "- Loading the dataset\n",
    "- Train the clustering model\n",
    "- For visualization: Applying a dimensionality reduction with Principal Component Analysis (PCA)"
   ]
  },
  {
   "cell_type": "markdown",
   "metadata": {},
   "source": [
    "### Step 1: Load desired Python modules"
   ]
  },
  {
   "cell_type": "code",
   "execution_count": null,
   "metadata": {},
   "outputs": [],
   "source": [
    "import time\n",
    "import matplotlib.pyplot as plt\n",
    "\n",
    "from sklearn import cluster, datasets\n",
    "from sklearn.decomposition import PCA"
   ]
  },
  {
   "cell_type": "markdown",
   "metadata": {},
   "source": [
    "### Step 2: Loading the dataset\n",
    "Load the dataset and print out the following information\n",
    "- Description of the dataset\n",
    "- Array shape of the feature data that is used for training the model\n",
    "- Array shape of the label / target data (Note: clustering will not require that info as it only focuses on the feature distances to find a pattern)\n",
    "- List of the feature names\n",
    "- List of the target names"
   ]
  },
  {
   "cell_type": "code",
   "execution_count": null,
   "metadata": {},
   "outputs": [],
   "source": [
    "# load the dataset\n",
    "dataset = datasets.load_iris()\n",
    "\n",
    "# print desired information\n",
    "print(f\"Data set description:\\n{dataset.DESCR}\")\n",
    "print(f\"Shape of feature / training data: {dataset.data.shape}\")\n",
    "print(f\"Shape of label data: {dataset.target.shape}\")\n",
    "print(f\"Feature names: {dataset.feature_names}\")\n",
    "print(f\"Target names: {dataset.target_names}\")"
   ]
  },
  {
   "cell_type": "markdown",
   "metadata": {},
   "source": [
    "### Step 3: Train a KMeans clustering model\n",
    "Use the following parameters for the clustering model:\n",
    "- `n_clusters=3` (Idea: Check whether clustering will produce a similar result)\n",
    "- `init=\"k-means++\"` (internal algorithm)\n",
    "- `random_state=42`"
   ]
  },
  {
   "cell_type": "code",
   "execution_count": null,
   "metadata": {},
   "outputs": [],
   "source": [
    "# create and intialize the clustering model\n",
    "model = cluster.KMeans(n_clusters=3, init=\"k-means++\", random_state=42)\n",
    "\n",
    "# train / fit the model\n",
    "elapsed_time = time.time()\n",
    "model = model.fit(dataset.data)\n",
    "elapsed_time = time.time() - elapsed_time\n",
    "\n",
    "print(f\"Elapsed time for preprocessing and training (original data): {elapsed_time} sec\")"
   ]
  },
  {
   "cell_type": "markdown",
   "metadata": {},
   "source": [
    "### Step 4: Visualization of results + comparison to original classes\n",
    "As visualizing multi-dimensional data is challenging, apply the following:\n",
    "- Use PCA to shrink the dataset down to 2 dimensions while preserving most of the information (new 2D feature space)\n",
    "- Plot the samples in the new 2D space and color them by class using the original class (target) information\n",
    "- Plot the samples in the new 2D space and color them by class (cluster) using predicted clustering results\n",
    "- Can you spot any differences?"
   ]
  },
  {
   "cell_type": "code",
   "execution_count": null,
   "metadata": {},
   "outputs": [],
   "source": [
    "# transform data to new 2D feature space\n",
    "pca = PCA(n_components=2)\n",
    "X_pca = pca.fit(dataset.data).transform(dataset.data)\n",
    "\n",
    "# define class colors\n",
    "colors = [\"navy\", \"turquoise\", \"darkorange\"]\n",
    "\n",
    "# =================================================================\n",
    "# == plot original classes\n",
    "# == using 2D feature space representation\n",
    "# =================================================================\n",
    "\n",
    "plt.figure()\n",
    "for color, i, target_name in zip(colors, [0, 1, 2], dataset.target_names):\n",
    "    plt.scatter(\n",
    "        X_pca[dataset.target == i, 0], # x coordinates in new 2D feature space\n",
    "        X_pca[dataset.target == i, 1], # y coordinates in new 2D feature space\n",
    "        color=color, alpha=0.8, lw=2,\n",
    "        label=target_name\n",
    "    )\n",
    "plt.title(\"Original IRIS dataset classes (after applying PCA)\")\n",
    "plt.legend(loc=\"best\", shadow=False, scatterpoints=1)\n",
    "\n",
    "# =================================================================\n",
    "# == plot classes resulting from clustering\n",
    "# == using 2D feature space representation\n",
    "# =================================================================\n",
    "\n",
    "# get cluster numbers for the different data samples\n",
    "y_pred = model.predict(dataset.data)\n",
    "\n",
    "# plot\n",
    "plt.figure()\n",
    "for color, i, target_name in zip(colors, [0, 1, 2], [\"Cluster 0\", \"Cluster 1\", \"Cluster 2\"]):\n",
    "    plt.scatter(\n",
    "        X_pca[y_pred == i, 0], # x coordinates in new 2D feature space\n",
    "        X_pca[y_pred == i, 1], # y coordinates in new 2D feature space\n",
    "        color=color, alpha=0.8, lw=2,\n",
    "        label=target_name\n",
    "    )\n",
    "plt.title(\"Clustered IRIS dataset classes (after applying PCA)\")\n",
    "plt.legend(loc=\"best\", shadow=False, scatterpoints=1)\n",
    "plt.show()"
   ]
  }
 ],
 "metadata": {
  "kernelspec": {
   "display_name": "jupyter",
   "language": "python",
   "name": "python3"
  },
  "language_info": {
   "codemirror_mode": {
    "name": "ipython",
    "version": 3
   },
   "file_extension": ".py",
   "mimetype": "text/x-python",
   "name": "python",
   "nbconvert_exporter": "python",
   "pygments_lexer": "ipython3",
   "version": "3.12.2"
  }
 },
 "nbformat": 4,
 "nbformat_minor": 2
}
